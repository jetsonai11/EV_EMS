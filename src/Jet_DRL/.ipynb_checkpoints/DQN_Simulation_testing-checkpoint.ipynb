{
 "cells": [
  {
   "cell_type": "code",
   "execution_count": 1,
   "metadata": {},
   "outputs": [],
   "source": [
    "from FASTSim_Package.envs.FASTSim_RL_Environment_testing import *\n",
    "import pandas as pd\n",
    "import numpy as np"
   ]
  },
  {
   "cell_type": "code",
   "execution_count": 2,
   "metadata": {
    "scrolled": true
   },
   "outputs": [
    {
     "name": "stdout",
     "output_type": "stream",
     "text": [
      "Driving simulation round 1 completed. Assigning outputs and calculating results...\n",
      " ------- Driving Simulation Round: 1, Score: 135707.81, Average Score: 135707.81 ------- \n",
      "MPG is:  32.491288678184794\n"
     ]
    }
   ],
   "source": [
    "if __name__ == '__main__':\n",
    "    \n",
    "    n_simulations = 1  # specify the number of driving simulations wanted\n",
    "    env = gym.make('FASTSim-v0')  \n",
    "\n",
    "    scores = []\n",
    "    eps_history = []\n",
    "\n",
    "    done = False\n",
    "    score = 0\n",
    "    state = env.reset()\n",
    "    env.reset_list()\n",
    "    while not done:\n",
    "        action = 11\n",
    "        state_, reward, done, info = env.step(action)\n",
    "        score += reward\n",
    "        #agent.remember(state, action, reward, state_, done) # store experience\n",
    "        state = state_   # new state -- state\n",
    "\n",
    "    scores.append(score)\n",
    "\n",
    "    #avg_score = np.mean(scores[max(0, i-100):(i+1)])\n",
    "    avg_score = np.mean(scores[max(0, i-1):(i+1)])\n",
    "    print(' ------- Driving Simulation Round: {}, Score: {:.2f}, Average Score: {:.2f} ------- '\\\n",
    "          .format(i, score, avg_score))\n",
    "        \n",
    "    # Results\n",
    "    df = pd.DataFrame.from_dict(env.output)[['soc','fcKwInAch','fcKwOutAch','essKwOutAch',\n",
    "                                             'mcMechKwOutAch','auxInKw','mcElecKwInAch','mpgge',\n",
    "                                             'transKwInAch','mcMechKw4ForcedFc',\n",
    "                                             'canPowerAllElectrically','fcForcedState']]\n",
    "    df['speed'] = env.cyc['cycMps'] * 2.23694  # Convert mps to mph \n",
    "    print('MPG is: ', df['mpgge'].iloc[-1])\n",
    "\n",
    "    x = [i+1 for i in range(n_simulations)]"
   ]
  },
  {
   "cell_type": "code",
   "execution_count": 3,
   "metadata": {},
   "outputs": [
    {
     "data": {
      "text/plain": [
       "array([ 0.00000000e+00,  2.82369178e+01,  3.84330334e+01,  3.57743708e+01,\n",
       "       -3.69110852e+01, -3.69110852e+01, -1.45761617e-02,  2.21701030e+00,\n",
       "       -3.80908037e-03,  3.53020690e+00,  3.17683857e+01,  2.16802326e+00,\n",
       "        9.27609542e+00, -1.26008012e-02,  2.37141213e+01,  3.74187344e+01,\n",
       "       -9.27237314e-03, -2.81071332e+01, -2.10924508e+01,  1.60258139e-01,\n",
       "       -1.51243894e-03,  5.07483750e+00,  3.24746793e+01, -5.73976456e-02,\n",
       "        2.55950010e+01, -4.08271652e-02,  1.40486675e+01,  3.52998536e+01,\n",
       "       -2.39585119e+01, -2.72447235e+01,  1.14847398e+01, -1.08390423e-02,\n",
       "        6.89899857e+00,  3.31809729e+01,  3.51749835e+01,  7.32056813e+00,\n",
       "       -4.70825077e+00,  2.72715217e+01,  1.36166794e+01, -2.46706884e-05,\n",
       "        8.54702487e-01,  3.00026517e+01,  6.04748955e+00,  7.47587980e+00,\n",
       "        4.51451774e-01, -2.37635577e-04, -3.09066967e+00,  2.86581169e+01,\n",
       "       -3.56051561e+01, -8.51881180e-02, -1.27076184e-04,  2.60174155e+01,\n",
       "        8.61940742e+00, -2.43699112e+01, -2.44291230e-02,  1.54362154e+01,\n",
       "        1.87390327e+01, -2.40876624e+01,  2.13920550e+00,  3.85503483e-02,\n",
       "        1.28094893e+00,  8.94529743e+00,  3.38872665e+01,  3.65529491e+01,\n",
       "       -2.01295221e+01, -6.90763159e-02, -8.34329415e-04,  1.54848689e+01,\n",
       "        3.56530004e+01,  3.30228105e+01, -7.39782915e-02, -8.72473100e-06,\n",
       "        1.46982896e-01,  7.91434355e+00,  3.35341197e+01, -1.93700149e+01,\n",
       "        1.85594045e+01,  4.54729853e-01, -5.85715643e-04,  3.34664985e+00,\n",
       "        8.81917409e+00,  3.10511940e+01, -2.63465455e+00, -5.57793897e-03,\n",
       "        7.91590311e+00, -5.07802342e+00,  1.95700547e+01,  3.18243891e+00,\n",
       "        1.61784411e+01, -2.19917285e-02])"
      ]
     },
     "execution_count": 3,
     "metadata": {},
     "output_type": "execute_result"
    }
   ],
   "source": [
    "df['mcMechKw4ForcedFc'].unique()"
   ]
  },
  {
   "cell_type": "code",
   "execution_count": null,
   "metadata": {},
   "outputs": [],
   "source": [
    "df['mcMechKw4ForcedFc'].unique()"
   ]
  },
  {
   "cell_type": "code",
   "execution_count": 5,
   "metadata": {},
   "outputs": [
    {
     "data": {
      "text/plain": [
       "38.43303335097935"
      ]
     },
     "execution_count": 5,
     "metadata": {},
     "output_type": "execute_result"
    }
   ],
   "source": [
    "df['mcMechKw4ForcedFc'].max()"
   ]
  },
  {
   "cell_type": "code",
   "execution_count": null,
   "metadata": {},
   "outputs": [],
   "source": [
    "df"
   ]
  },
  {
   "cell_type": "code",
   "execution_count": null,
   "metadata": {},
   "outputs": [],
   "source": [
    "aaa = np.random.randint(1,12)"
   ]
  },
  {
   "cell_type": "code",
   "execution_count": null,
   "metadata": {},
   "outputs": [],
   "source": [
    "aaa"
   ]
  },
  {
   "cell_type": "code",
   "execution_count": null,
   "metadata": {},
   "outputs": [],
   "source": []
  }
 ],
 "metadata": {
  "kernelspec": {
   "display_name": "drlnd",
   "language": "python",
   "name": "drlnd"
  },
  "language_info": {
   "codemirror_mode": {
    "name": "ipython",
    "version": 3
   },
   "file_extension": ".py",
   "mimetype": "text/x-python",
   "name": "python",
   "nbconvert_exporter": "python",
   "pygments_lexer": "ipython3",
   "version": "3.6.10"
  }
 },
 "nbformat": 4,
 "nbformat_minor": 4
}
